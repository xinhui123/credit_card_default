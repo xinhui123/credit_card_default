{
 "cells": [
  {
   "cell_type": "code",
   "execution_count": 1,
   "metadata": {},
   "outputs": [
    {
     "name": "stdout",
     "output_type": "stream",
     "text": [
      " * Serving Flask app \"__main__\" (lazy loading)\n",
      " * Environment: production\n",
      "   WARNING: This is a development server. Do not use it in a production deployment.\n",
      "   Use a production WSGI server instead.\n",
      " * Debug mode: off\n"
     ]
    },
    {
     "name": "stderr",
     "output_type": "stream",
     "text": [
      " * Running on http://127.0.0.1:5000/ (Press CTRL+C to quit)\n",
      "127.0.0.1 - - [23/Feb/2022 17:35:55] \"\u001b[37mGET / HTTP/1.1\u001b[0m\" 200 -\n",
      "127.0.0.1 - - [23/Feb/2022 17:36:05] \"\u001b[37mPOST / HTTP/1.1\u001b[0m\" 200 -\n"
     ]
    },
    {
     "name": "stdout",
     "output_type": "stream",
     "text": [
      "5000 40 6000\n"
     ]
    },
    {
     "name": "stderr",
     "output_type": "stream",
     "text": [
      "127.0.0.1 - - [23/Feb/2022 17:38:07] \"\u001b[37mPOST / HTTP/1.1\u001b[0m\" 200 -\n"
     ]
    },
    {
     "name": "stdout",
     "output_type": "stream",
     "text": [
      "66000 60 8000\n"
     ]
    }
   ],
   "source": [
    "from flask import Flask\n",
    "from flask import request, render_template\n",
    "import pandas as pd\n",
    "\n",
    "from scipy import stats\n",
    "import numpy as np\n",
    "\n",
    "\n",
    "import joblib\n",
    "model1 = joblib.load(\"logistic\")\n",
    "model2 = joblib.load(\"classification_tree\")\n",
    "model3 = joblib.load(\"random_forest\")\n",
    "model4 = joblib.load(\"MLP\")\n",
    "model5 = joblib.load(\"xgboost\")\n",
    "\n",
    "app = Flask(__name__)\n",
    "\n",
    "@app.route('/', methods=['GET', 'POST'])\n",
    "\n",
    "def index():\n",
    "    if request.method == 'POST':\n",
    "        income = request.form.get('income')\n",
    "        age = request.form.get('age')\n",
    "        loan = request.form.get('loan')\n",
    "        print(income, age, loan)\n",
    "        pred1 = predict_result(income, age, loan, model1, False, 'Logistic Regression')\n",
    "        pred2 = predict_result(income, age, loan, model2, False, 'Classification Tree')\n",
    "        pred3 = predict_result(income, age, loan, model3, False, 'random_forest')\n",
    "        pred4 = predict_result(income, age, loan, model4, True, 'MLP')\n",
    "        pred5 = predict_result(income, age, loan, model5, True, 'xgboost')\n",
    "\n",
    "        final_result = pred1 + pred2 + pred3 + pred4 + pred5\n",
    "        \n",
    "        return(render_template('index.html', result = final_result))\n",
    "    else:\n",
    "        return(render_template('index.html', result = 'ready'))\n",
    "\n",
    "def predict_result(income, age, loan, model, should_normalise, model_name):\n",
    "    if should_normalise == True:\n",
    "        data = pd.read_csv('Credit Card Default II (balance).csv')\n",
    "        data = data[['income', 'age', 'loan']]\n",
    "        \n",
    "        new_data = pd.DataFrame({\"income\":[income],\n",
    "                            \"age\":[age],\n",
    "                            'loan':[loan]})\n",
    "        data = data.append(new_data)\n",
    "\n",
    "        data_normalized = data.copy()\n",
    "\n",
    "        for i in data_normalized.columns:\n",
    "            data_normalized[i]=stats.zscore(data_normalized[i].astype(np.float))\n",
    "        \n",
    "        X = [[float(data_normalized['income'].iloc[-1]), \n",
    "              float(data_normalized['age'].iloc[-1]), \n",
    "              float(data_normalized['loan'].iloc[-1])]]\n",
    "    else:\n",
    "        X = [[float(income), float(age), float(loan)]]\n",
    "    \n",
    "    pred = model.predict(X)\n",
    "\n",
    "    if pred == 0:\n",
    "        result = 'Not Default.'\n",
    "    else:\n",
    "        result = 'Default.'\n",
    "\n",
    "    s = 'The credit card default result predicted by model ' + model_name + ' is: ' +result + '\\n'\n",
    "\n",
    "    return s\n",
    "\n",
    "    \n",
    "if __name__ == '__main__':\n",
    "    app.run()\n"
   ]
  },
  {
   "cell_type": "code",
   "execution_count": null,
   "metadata": {},
   "outputs": [],
   "source": []
  }
 ],
 "metadata": {
  "kernelspec": {
   "display_name": "Python 3",
   "language": "python",
   "name": "python3"
  },
  "language_info": {
   "codemirror_mode": {
    "name": "ipython",
    "version": 3
   },
   "file_extension": ".py",
   "mimetype": "text/x-python",
   "name": "python",
   "nbconvert_exporter": "python",
   "pygments_lexer": "ipython3",
   "version": "3.7.4"
  }
 },
 "nbformat": 4,
 "nbformat_minor": 2
}
